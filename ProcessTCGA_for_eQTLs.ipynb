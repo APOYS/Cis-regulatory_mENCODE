{
 "cells": [
  {
   "cell_type": "markdown",
   "metadata": {},
   "source": [
    "# Reformat the mutation data"
   ]
  },
  {
   "cell_type": "markdown",
   "metadata": {},
   "source": [
    "* Gives Mutation name and locations\n",
    "* Mutation occurences in each sample \n",
    "* Consider mutation at each locus a mutation (doesn't matter the type)"
   ]
  },
  {
   "cell_type": "code",
   "execution_count": 43,
   "metadata": {
    "collapsed": false,
    "scrolled": false
   },
   "outputs": [
    {
     "name": "stdout",
     "output_type": "stream",
     "text": [
      "5282\n"
     ]
    }
   ],
   "source": [
    "file = open(\"/home/vungo/Downloads/gdac.broadinstitute.org_CHOL-TP.Mutation_CHASM.Level_4.2016012800.0.0/mutationslist.txt\").read().split('\\n')\n",
    "print len(file)"
   ]
  },
  {
   "cell_type": "code",
   "execution_count": 63,
   "metadata": {
    "collapsed": false
   },
   "outputs": [],
   "source": [
    "tag = \"CHOL\"\n",
    "mutations = {}\n",
    "samples = {}\n",
    "for line in file:\n",
    "    tmp = line.strip().split('\\t')\n",
    "    if len(tmp)==1:\n",
    "        continue\n",
    "    mut = tmp[1]+'_'+tmp[2]\n",
    "    sample = tmp[0]\n",
    "    if mut not in mutations:\n",
    "        mutations[mut] = 1\n",
    "    else:\n",
    "        mutations[mut] += 1\n",
    "    if sample not in samples:\n",
    "        samples[sample] = {mut:1}\n",
    "    else:\n",
    "        samples[sample][mut] = 1\n",
    "    "
   ]
  },
  {
   "cell_type": "code",
   "execution_count": 50,
   "metadata": {
    "collapsed": false,
    "scrolled": true
   },
   "outputs": [],
   "source": [
    "#mutations[\"chrX_1\"]=1\n",
    "translatedict = {}\n",
    "for i in range(1,24):\n",
    "    c = 'chr'+str(i)\n",
    "    translatedict[c] =c \n",
    "#translatedict"
   ]
  },
  {
   "cell_type": "code",
   "execution_count": 58,
   "metadata": {
    "collapsed": false,
    "scrolled": true
   },
   "outputs": [],
   "source": [
    "#create a mutationname dict as well:\n",
    "mutnames = {}\n",
    "\n",
    "#make file SNP_locations:\n",
    "target = open(\"/home/vungo/Downloads/SNP_locations.txt\",'w')\n",
    "target.write(\"snp\\tchr\\tpos\")\n",
    "mutationlocs = []\n",
    "factor = 10**12\n",
    "for mut in mutations:\n",
    "    tmp = mut.split('_')\n",
    "    try:\n",
    "        loc = int(tmp[0].replace('chr',''))*factor + int(tmp[1])\n",
    "    except:\n",
    "        if 'x' in tmp[0] or 'X' in tmp[0]:\n",
    "            loc = 25*factor + int(tmp[1]) #chrx is chr25\n",
    "        elif 'y' in tmp[0] or 'Y' in tmp[0]:\n",
    "            loc = 26*factor + int(tmp[1]) #chrx is chr26\n",
    "        elif 'm' in tmp[0] or 'M' in tmp[0]:\n",
    "            loc = 27*factor + int(tmp[1]) #chrx is chr27\n",
    "    mutationlocs += [loc]\n",
    "mutationlocs = sorted(mutationlocs)\n",
    "for i in range(len(mutationlocs)):\n",
    "    loc = mutationlocs[i]\n",
    "    chromname = \"chr\"+str(loc/factor)\n",
    "    try:\n",
    "        chromname = translatedict[chromname]\n",
    "    except:\n",
    "        if chromname == 'chr25':\n",
    "            chromname = 'chrX'\n",
    "        elif chromname == 'chr26':\n",
    "            chromname = 'chrY'\n",
    "        elif chromname == 'chr27':\n",
    "            chromname = 'chrM'\n",
    "        else:\n",
    "            print \"ERROR\"\n",
    "            continue\n",
    "    mutname = \"snp_\"+tag+\"_\"+str(i+1)\n",
    "    mutnames[mutname] = chromname+'_'+str(loc%factor)\n",
    "    line = mutname +'\\t'+chromname+'\\t'+str(loc%factor)\n",
    "    \n",
    "    #print line\n",
    "    target.write('\\n'+line)\n",
    "target.close()"
   ]
  },
  {
   "cell_type": "code",
   "execution_count": 64,
   "metadata": {
    "collapsed": false,
    "scrolled": true
   },
   "outputs": [],
   "source": [
    "samplenames = sorted(samples.keys())\n",
    "target = open(\"/home/vungo/Downloads/genotype.txt\",'w')\n",
    "line = \"id\"\n",
    "for sam in samplenames:\n",
    "    line += '\\t'+sam\n",
    "target.write(line)\n",
    "for i in range(len(mutnames)):\n",
    "    mutname = \"snp_\"+tag+\"_\"+str(i+1)\n",
    "    vector = [0]*len(samples)\n",
    "    mutlocname = mutnames[mutname]\n",
    "    for i in range(len(samplenames)):\n",
    "        sam = samplenames[i]\n",
    "        if mutlocname in samples[sam]:\n",
    "            vector[i] = 1\n",
    "    line = mutname+'\\t'+'\\t'.join(map(str,vector))\n",
    "    target.write('\\n'+line)\n",
    "    #print mutname\n",
    "    #print vector\n",
    "target.close()"
   ]
  },
  {
   "cell_type": "code",
   "execution_count": 61,
   "metadata": {
    "collapsed": false
   },
   "outputs": [
    {
     "data": {
      "text/plain": [
       "['0', '0', '0', '0']"
      ]
     },
     "execution_count": 61,
     "metadata": {},
     "output_type": "execute_result"
    }
   ],
   "source": [
    "map(str,[0, 0, 0, 0])"
   ]
  },
  {
   "cell_type": "code",
   "execution_count": null,
   "metadata": {
    "collapsed": true
   },
   "outputs": [],
   "source": []
  }
 ],
 "metadata": {
  "kernelspec": {
   "display_name": "Python 2",
   "language": "python",
   "name": "python2"
  },
  "language_info": {
   "codemirror_mode": {
    "name": "ipython",
    "version": 2
   },
   "file_extension": ".py",
   "mimetype": "text/x-python",
   "name": "python",
   "nbconvert_exporter": "python",
   "pygments_lexer": "ipython2",
   "version": "2.7.13"
  }
 },
 "nbformat": 4,
 "nbformat_minor": 2
}

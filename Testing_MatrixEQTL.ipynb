{
 "cells": [
  {
   "cell_type": "code",
   "execution_count": 1,
   "metadata": {
    "collapsed": false
   },
   "outputs": [
    {
     "name": "stderr",
     "output_type": "stream",
     "text": [
      "Updating HTML index of packages in '.Library'\n",
      "Making 'packages.html' ... done\n"
     ]
    }
   ],
   "source": [
    "install.packages('MatrixEQTL', repos='http://cran.us.r-project.org')"
   ]
  },
  {
   "cell_type": "code",
   "execution_count": 2,
   "metadata": {
    "collapsed": false
   },
   "outputs": [
    {
     "name": "stderr",
     "output_type": "stream",
     "text": [
      "Loading required package: MatrixEQTL\n"
     ]
    }
   ],
   "source": [
    "require(\"MatrixEQTL\")"
   ]
  },
  {
   "cell_type": "code",
   "execution_count": 93,
   "metadata": {
    "collapsed": false,
    "scrolled": true
   },
   "outputs": [],
   "source": [
    "#log_normalize the expression data\n",
    "\n",
    "data = read.csv(\"~/Work/testGeneexpreesion.txt\",sep='\\t',row.names =1)\n",
    "data.log = log(data[,1:44]+1)\n",
    "#data.log\n",
    "\n",
    "#data\n",
    "#write.table(x, file = \"\", append = FALSE, quote = TRUE, sep = \" \",\n",
    "#            eol = \"\\n\", na = \"NA\", dec = \".\", row.names = TRUE,\n",
    "#            col.names = TRUE, qmethod = c(\"escape\", \"double\"),\n",
    "#            fileEncoding = \"\")\n",
    "lognormedExpressionfile = paste(\"~/Work/testGeneexpreesion.txt\",\"lognorm\",sep='.')\n",
    "write.table(data.log, file = lognormedExpressionfile,quote=FALSE, sep ='\\t')"
   ]
  },
  {
   "cell_type": "code",
   "execution_count": 91,
   "metadata": {
    "collapsed": false
   },
   "outputs": [
    {
     "data": {
      "text/html": [
       "'~/Work/testGeneexpreesion.txt.lognorm'"
      ],
      "text/latex": [
       "'\\textasciitilde{}/Work/testGeneexpreesion.txt.lognorm'"
      ],
      "text/markdown": [
       "'~/Work/testGeneexpreesion.txt.lognorm'"
      ],
      "text/plain": [
       "[1] \"~/Work/testGeneexpreesion.txt.lognorm\""
      ]
     },
     "metadata": {},
     "output_type": "display_data"
    }
   ],
   "source": [
    "paste(\"~/Work/testGeneexpreesion.txt\",\"lognorm\",sep='.')"
   ]
  },
  {
   "cell_type": "code",
   "execution_count": 24,
   "metadata": {
    "collapsed": true
   },
   "outputs": [],
   "source": [
    "library(MatrixEQTL)\n",
    "\n",
    "base.dir = find.package('MatrixEQTL');\n",
    "useModel = modelLINEAR"
   ]
  },
  {
   "cell_type": "code",
   "execution_count": 129,
   "metadata": {
    "collapsed": false
   },
   "outputs": [],
   "source": [
    "# Linear model to use, modelANOVA, modelLINEAR, or modelLINEAR_CROSS\n",
    "useModel = modelLINEAR; # modelANOVA, modelLINEAR, or modelLINEAR_CROSS\n",
    "\n",
    "# Genotype file name\n",
    "#SNP_file_name = paste(base.dir, \"/data/SNP.txt\", sep=\"\");\n",
    "#snps_location_file_name = paste(base.dir, \"/data/snpsloc.txt\", sep=\"\");\n",
    "SNP_file_name = \"~/Work/testGenotype.txt\";\n",
    "snps_location_file_name = \"~/Work/testSNP_locations.txt\";\n",
    "\n",
    "# Gene expression file name\n",
    "#expression_file_name = paste(base.dir, \"/data/GE.txt\", sep=\"\");\n",
    "#gene_location_file_name = paste(base.dir, \"/data/geneloc.txt\", sep=\"\");\n",
    "expression_file_name = lognormedExpressionfile;\n",
    "gene_location_file_name = \"~/Work/testGenelocations.txt\";\n",
    "\n",
    "# Covariates file name\n",
    "# Set to character() for no covariates\n",
    "#covariates_file_name = paste(base.dir, \"/data/Covariates.txt\", sep=\"\");\n",
    "covariates_file_name =  \"~/Work/testCovariate.txt\";\n",
    "table = read.csv(covariates_file_name,sep='\\t')\n",
    "L = unname(unlist(table))\n",
    "if (0 %in% L) {covariates_file_name = covariates_file_name} \n",
    "covariates_file_name = character()\n",
    "\n",
    "# Output file name\n",
    "output_file_name_cis = \"~/Work/CHOL_eqtl_cis.tsv\";\n",
    "output_file_name_tra = \"~/Work/CHOL_eqtl_trans.tsv\";\n",
    "\n",
    "# Only associations significant at this level will be saved\n",
    "pvOutputThreshold_cis = 2e-3;\n",
    "pvOutputThreshold_tra = 1e-3;\n",
    "\n",
    "# Error covariance matrix\n",
    "# Set to numeric() for identity.\n",
    "errorCovariance = numeric();\n",
    "# errorCovariance = read.table(\"Sample_Data/errorCovariance.txt\");\n",
    "\n",
    "# Distance for local gene-SNP pairs\n",
    "cisDist = 1e6;"
   ]
  },
  {
   "cell_type": "code",
   "execution_count": 95,
   "metadata": {
    "collapsed": false
   },
   "outputs": [
    {
     "name": "stdout",
     "output_type": "stream",
     "text": [
      "Rows read:  2,000 \n",
      "Rows read:  4,000 \n",
      "Rows read:  5218  done.\n"
     ]
    }
   ],
   "source": [
    "#Load SNP data (Load genotype data)\n",
    "\n",
    "snps = SlicedData$new();\n",
    "snps$fileDelimiter = \"\\t\";      # the TAB character\n",
    "snps$fileOmitCharacters = \"NA\"; # denote missing values;\n",
    "snps$fileSkipRows = 1;          # one row of column labels\n",
    "snps$fileSkipColumns = 1;       # one column of row labels\n",
    "snps$fileSliceSize = 2000;      # read file in slices of 2,000 rows\n",
    "snps$LoadFile(SNP_file_name);\n"
   ]
  },
  {
   "cell_type": "code",
   "execution_count": 96,
   "metadata": {
    "collapsed": false
   },
   "outputs": [
    {
     "name": "stdout",
     "output_type": "stream",
     "text": [
      "Rows read:  2,000 \n",
      "Rows read:  4,000 \n",
      "Rows read:  6,000 \n",
      "Rows read:  8,000 \n",
      "Rows read:  10,000 \n",
      "Rows read:  12,000 \n",
      "Rows read:  14,000 \n",
      "Rows read:  16,000 \n",
      "Rows read:  18,000 \n",
      "Rows read:  18864  done.\n"
     ]
    }
   ],
   "source": [
    "\n",
    "## Load gene expression data\n",
    "\n",
    "gene = SlicedData$new();\n",
    "gene$fileDelimiter = \"\\t\";      # the TAB character\n",
    "gene$fileOmitCharacters = \"NA\"; # denote missing values;\n",
    "gene$fileSkipRows = 1;          # one row of column labels\n",
    "gene$fileSkipColumns = 1;       # one column of row labels\n",
    "gene$fileSliceSize = 2000;      # read file in slices of 2,000 rows\n",
    "gene$LoadFile(expression_file_name);"
   ]
  },
  {
   "cell_type": "code",
   "execution_count": 97,
   "metadata": {
    "collapsed": false
   },
   "outputs": [
    {
     "name": "stdout",
     "output_type": "stream",
     "text": [
      "Rows read:  1  done.\n"
     ]
    }
   ],
   "source": [
    "\n",
    "\n",
    "## Load covariates\n",
    "\n",
    "cvrt = SlicedData$new();\n",
    "cvrt$fileDelimiter = \"\\t\";      # the TAB character\n",
    "cvrt$fileOmitCharacters = \"NA\"; # denote missing values;\n",
    "cvrt$fileSkipRows = 1;          # one row of column labels\n",
    "cvrt$fileSkipColumns = 1;       # one column of row labels\n",
    "if(length(covariates_file_name)>0) {\n",
    "cvrt$LoadFile(covariates_file_name);\n",
    "}"
   ]
  },
  {
   "cell_type": "code",
   "execution_count": 98,
   "metadata": {
    "collapsed": true
   },
   "outputs": [],
   "source": [
    "snpspos = read.table(snps_location_file_name, header = TRUE, stringsAsFactors = FALSE);\n",
    "genepos = read.table(gene_location_file_name, header = TRUE, stringsAsFactors = FALSE);"
   ]
  },
  {
   "cell_type": "code",
   "execution_count": 99,
   "metadata": {
    "collapsed": false,
    "scrolled": true
   },
   "outputs": [
    {
     "name": "stdout",
     "output_type": "stream",
     "text": [
      "Matching data files and location files \n",
      "18864 of 18864  genes matched\n",
      "5218 of 5218  SNPs matched\n",
      "Task finished in  0.035  seconds\n",
      "Reordering genes\n",
      " \n",
      "Task finished in  0.385  seconds\n",
      "Processing covariates \n",
      "Task finished in  0.003  seconds\n",
      "Processing gene expression data (imputation, residualization, etc.) \n",
      "Task finished in  0.09  seconds\n",
      "Creating output file(s) \n",
      "Task finished in  0.037  seconds\n",
      "Performing eQTL analysis \n",
      " 3.33% done, 249 cis-eQTLs, 52,951 trans-eQTLs\n",
      " 6.66% done, 422 cis-eQTLs, 102,814 trans-eQTLs\n",
      "10.00% done, 598 cis-eQTLs, 157,324 trans-eQTLs\n",
      "13.33% done, 654 cis-eQTLs, 205,971 trans-eQTLs\n",
      "16.66% done, 253,136 trans-eQTLs\n",
      "20.00% done, 301,424 trans-eQTLs\n",
      "23.33% done, 345,720 trans-eQTLs\n",
      "26.66% done, 393,316 trans-eQTLs\n",
      "29.99% done, 440,539 trans-eQTLs\n",
      "33.33% done, 467,205 trans-eQTLs\n",
      "36.66% done, 521,788 trans-eQTLs\n",
      "40.00% done, 572,364 trans-eQTLs\n",
      "43.33% done, 628,690 trans-eQTLs\n",
      "46.66% done, 748 cis-eQTLs, 677,845 trans-eQTLs\n",
      "50.00% done, 945 cis-eQTLs, 724,689 trans-eQTLs\n",
      "53.33% done, 1,233 cis-eQTLs, 772,482 trans-eQTLs\n",
      "56.66% done, 1,440 cis-eQTLs, 817,087 trans-eQTLs\n",
      "59.99% done, 865,192 trans-eQTLs\n",
      "63.33% done, 913,480 trans-eQTLs\n",
      "66.66% done, 940,018 trans-eQTLs\n",
      "70.00% done, 972,130 trans-eQTLs\n",
      "73.33% done, 1,002,202 trans-eQTLs\n",
      "76.66% done, 1,035,553 trans-eQTLs\n",
      "80.00% done, 1,065,030 trans-eQTLs\n",
      "83.33% done, 1,093,296 trans-eQTLs\n",
      "86.66% done, 1,121,960 trans-eQTLs\n",
      "90.00% done, 1,467 cis-eQTLs, 1,148,801 trans-eQTLs\n",
      "93.33% done, 1,836 cis-eQTLs, 1,177,152 trans-eQTLs\n",
      "96.66% done, 2,110 cis-eQTLs, 1,205,928 trans-eQTLs\n",
      "100.00% done, 1,222,140 trans-eQTLs\n",
      "Task finished in  34.317  seconds\n",
      " \n"
     ]
    }
   ],
   "source": [
    "me = Matrix_eQTL_main(\n",
    "snps = snps, \n",
    "gene = gene, \n",
    "cvrt = cvrt,\n",
    "output_file_name     = output_file_name_tra,\n",
    "pvOutputThreshold     = pvOutputThreshold_tra,\n",
    "useModel = useModel, \n",
    "errorCovariance = errorCovariance, \n",
    "verbose = TRUE, \n",
    "output_file_name.cis = output_file_name_cis,\n",
    "pvOutputThreshold.cis = pvOutputThreshold_cis,\n",
    "snpspos = snpspos, \n",
    "genepos = genepos,\n",
    "cisDist = cisDist,\n",
    "pvalue.hist = \"qqplot\",\n",
    "min.pv.by.genesnp = FALSE,\n",
    "noFDRsaveMemory = FALSE);\n",
    "\n",
    "\n",
    "unlink(output_file_name_tra);\n",
    "unlink(output_file_name_cis);"
   ]
  },
  {
   "cell_type": "code",
   "execution_count": 100,
   "metadata": {
    "collapsed": false,
    "scrolled": false
   },
   "outputs": [
    {
     "name": "stdout",
     "output_type": "stream",
     "text": [
      "Analysis done in:  19.407  seconds \n",
      "Detected local eQTLs: \n"
     ]
    },
    {
     "data": {
      "image/png": "[encoded data removed]",
      "text/plain": [
       "Plot with title “QQ-plot for 128,186 local and 98,304,166 distant p-values”"
      ]
     },
     "metadata": {},
     "output_type": "display_data"
    }
   ],
   "source": [
    "#print results \n",
    "write.table(me$cis$eqtls,file = output_file_name_cis,sep='\\t',quote=FALSE)\n",
    "write.table(me$trans$eqtls,file = output_file_name_tra,sep='\\t',quote=FALSE)\n",
    "\n",
    "\n",
    "## Results:\n",
    "\n",
    "cat('Analysis done in: ', me$time.in.sec, ' seconds', '\\n');\n",
    "cat('Detected local eQTLs:', '\\n');\n",
    "#show(me$cis$eqtls)\n",
    "#cat('Detected distant eQTLs:', '\\n');\n",
    "#show(me$trans$eqtls)\n",
    "\n",
    "## Plot the Q-Q plot of local and distant p-values\n",
    "\n",
    "plot(me)"
   ]
  },
  {
   "cell_type": "code",
   "execution_count": 86,
   "metadata": {
    "collapsed": false
   },
   "outputs": [
    {
     "data": {
      "text/html": [
       "<table>\n",
       "<thead><tr><th scope=col>snps</th><th scope=col>gene</th><th scope=col>statistic</th><th scope=col>pvalue</th><th scope=col>FDR</th><th scope=col>beta</th></tr></thead>\n",
       "<tbody>\n",
       "\t<tr><td>snp_CHOL_291 </td><td>LCE1F        </td><td>      Inf    </td><td>2.225074e-308</td><td>6.338296e-305</td><td>0.9145693    </td></tr>\n",
       "\t<tr><td>snp_CHOL_323 </td><td>SNORA42      </td><td>      Inf    </td><td>2.225074e-308</td><td>6.338296e-305</td><td>0.4350239    </td></tr>\n",
       "\t<tr><td>snp_CHOL_324 </td><td>SNORA42      </td><td>      Inf    </td><td>2.225074e-308</td><td>6.338296e-305</td><td>0.4350239    </td></tr>\n",
       "\t<tr><td>snp_CHOL_332 </td><td>SNORA42      </td><td>      Inf    </td><td>2.225074e-308</td><td>6.338296e-305</td><td>0.4350239    </td></tr>\n",
       "\t<tr><td>snp_CHOL_341 </td><td>OR10T2       </td><td>429706394    </td><td>2.225074e-308</td><td>6.338296e-305</td><td>0.8102189    </td></tr>\n",
       "\t<tr><td>snp_CHOL_344 </td><td>OR10T2       </td><td>429706394    </td><td>2.225074e-308</td><td>6.338296e-305</td><td>0.8102189    </td></tr>\n",
       "\t<tr><td>snp_CHOL_553 </td><td>OR2L2        </td><td>429706394    </td><td>2.225074e-308</td><td>6.338296e-305</td><td>0.4850154    </td></tr>\n",
       "\t<tr><td>snp_CHOL_547 </td><td>OR2M4        </td><td>      Inf    </td><td>2.225074e-308</td><td>6.338296e-305</td><td>1.5477114    </td></tr>\n",
       "\t<tr><td>snp_CHOL_552 </td><td>OR2T4        </td><td>      Inf    </td><td>2.225074e-308</td><td>6.338296e-305</td><td>0.4272266    </td></tr>\n",
       "\t<tr><td>snp_CHOL_553 </td><td>OR2T3        </td><td>429706394    </td><td>2.225074e-308</td><td>6.338296e-305</td><td>0.4850154    </td></tr>\n",
       "\t<tr><td>snp_CHOL_553 </td><td>OR2T5        </td><td>429706394    </td><td>2.225074e-308</td><td>6.338296e-305</td><td>0.8102189    </td></tr>\n",
       "\t<tr><td>snp_CHOL_553 </td><td>OR2G6        </td><td>429706394    </td><td>2.225074e-308</td><td>6.338296e-305</td><td>0.4850154    </td></tr>\n",
       "\t<tr><td>snp_CHOL_898 </td><td>RESP18       </td><td>      Inf    </td><td>2.225074e-308</td><td>6.338296e-305</td><td>0.4205507    </td></tr>\n",
       "\t<tr><td>snp_CHOL_932 </td><td>SPATA3       </td><td>429706394    </td><td>2.225074e-308</td><td>6.338296e-305</td><td>0.3186719    </td></tr>\n",
       "\t<tr><td>snp_CHOL_934 </td><td>SPATA3       </td><td>429706394    </td><td>2.225074e-308</td><td>6.338296e-305</td><td>0.3186719    </td></tr>\n",
       "\t<tr><td>snp_CHOL_1040</td><td>LOC646498    </td><td>      Inf    </td><td>2.225074e-308</td><td>6.338296e-305</td><td>0.4460951    </td></tr>\n",
       "\t<tr><td>snp_CHOL_1053</td><td>IQCF3        </td><td>429706394    </td><td>2.225074e-308</td><td>6.338296e-305</td><td>0.9999699    </td></tr>\n",
       "\t<tr><td>snp_CHOL_1067</td><td>IQCF3        </td><td>429706394    </td><td>2.225074e-308</td><td>6.338296e-305</td><td>0.9999699    </td></tr>\n",
       "\t<tr><td>snp_CHOL_1170</td><td>PRR23C       </td><td>      Inf    </td><td>2.225074e-308</td><td>6.338296e-305</td><td>0.3956841    </td></tr>\n",
       "\t<tr><td>snp_CHOL_1262</td><td>SCARNA22     </td><td>429706394    </td><td>2.225074e-308</td><td>6.338296e-305</td><td>0.3979704    </td></tr>\n",
       "\t<tr><td>snp_CHOL_1317</td><td>PDCL2        </td><td>      Inf    </td><td>2.225074e-308</td><td>6.338296e-305</td><td>0.3879798    </td></tr>\n",
       "\t<tr><td>snp_CHOL_1607</td><td>FTMT         </td><td>      Inf    </td><td>2.225074e-308</td><td>6.338296e-305</td><td>0.4306129    </td></tr>\n",
       "\t<tr><td>snp_CHOL_2018</td><td>FERD3L       </td><td>      Inf    </td><td>2.225074e-308</td><td>6.338296e-305</td><td>0.1380213    </td></tr>\n",
       "\t<tr><td>snp_CHOL_2198</td><td>OR6B1        </td><td>303848305    </td><td>2.225074e-308</td><td>6.338296e-305</td><td>0.4346355    </td></tr>\n",
       "\t<tr><td>snp_CHOL_2694</td><td>C10orf40     </td><td>      Inf    </td><td>2.225074e-308</td><td>6.338296e-305</td><td>0.3536805    </td></tr>\n",
       "\t<tr><td>snp_CHOL_2885</td><td>OR2D2        </td><td>      Inf    </td><td>2.225074e-308</td><td>6.338296e-305</td><td>0.3446530    </td></tr>\n",
       "\t<tr><td>snp_CHOL_2886</td><td>OR2D2        </td><td>      Inf    </td><td>2.225074e-308</td><td>6.338296e-305</td><td>0.3446530    </td></tr>\n",
       "\t<tr><td>snp_CHOL_2907</td><td>MRGPRX2      </td><td>      Inf    </td><td>2.225074e-308</td><td>6.338296e-305</td><td>0.3683861    </td></tr>\n",
       "\t<tr><td>snp_CHOL_2973</td><td>OR9G9        </td><td>      Inf    </td><td>2.225074e-308</td><td>6.338296e-305</td><td>0.4045313    </td></tr>\n",
       "\t<tr><td>snp_CHOL_2974</td><td>OR9G9        </td><td>      Inf    </td><td>2.225074e-308</td><td>6.338296e-305</td><td>0.4045313    </td></tr>\n",
       "\t<tr><td>⋮</td><td>⋮</td><td>⋮</td><td>⋮</td><td>⋮</td><td>⋮</td></tr>\n",
       "\t<tr><td>snp_CHOL_3357</td><td>INHBC        </td><td> 3.318473    </td><td>0.001905573  </td><td>0.1173539    </td><td> 4.9525994   </td></tr>\n",
       "\t<tr><td>snp_CHOL_3075</td><td>NUMA1        </td><td> 3.318357    </td><td>0.001906193  </td><td>0.1173539    </td><td> 0.9006772   </td></tr>\n",
       "\t<tr><td>snp_CHOL_3699</td><td>SIVA1        </td><td> 3.318211    </td><td>0.001906980  </td><td>0.1173539    </td><td> 1.0248901   </td></tr>\n",
       "\t<tr><td>snp_CHOL_2   </td><td>HES4         </td><td>-3.316406    </td><td>0.001916692  </td><td>0.1178901    </td><td>-1.9298486   </td></tr>\n",
       "\t<tr><td>snp_CHOL_835 </td><td>NEUROD1      </td><td> 3.316250    </td><td>0.001917533  </td><td>0.1178901    </td><td> 2.9647076   </td></tr>\n",
       "\t<tr><td>snp_CHOL_553 </td><td>OR2L13       </td><td> 3.316073    </td><td>0.001918491  </td><td>0.1178925    </td><td> 1.6227345   </td></tr>\n",
       "\t<tr><td>snp_CHOL_3699</td><td>GPR132       </td><td> 3.315170    </td><td>0.001923370  </td><td>0.1181357    </td><td> 3.0003471   </td></tr>\n",
       "\t<tr><td>snp_CHOL_843 </td><td>HIBCH        </td><td> 3.314566    </td><td>0.001926640  </td><td>0.1182798    </td><td> 1.1766409   </td></tr>\n",
       "\t<tr><td>snp_CHOL_3208</td><td>VPS26B       </td><td> 3.313239    </td><td>0.001933846  </td><td>0.1186171    </td><td> 0.8010236   </td></tr>\n",
       "\t<tr><td>snp_CHOL_4525</td><td>ZNF433       </td><td>-3.313214    </td><td>0.001933985  </td><td>0.1186171    </td><td>-3.0116704   </td></tr>\n",
       "\t<tr><td>snp_CHOL_10  </td><td>B3GALT6      </td><td> 3.310000    </td><td>0.001951547  </td><td>0.1196370    </td><td> 1.0354507   </td></tr>\n",
       "\t<tr><td>snp_CHOL_5028</td><td>APOBEC3G     </td><td>-3.308533    </td><td>0.001959609  </td><td>0.1199207    </td><td>-2.6894250   </td></tr>\n",
       "\t<tr><td>snp_CHOL_5029</td><td>APOBEC3G     </td><td>-3.308533    </td><td>0.001959609  </td><td>0.1199207    </td><td>-2.6894250   </td></tr>\n",
       "\t<tr><td>snp_CHOL_43  </td><td>FBXO44       </td><td> 3.308519    </td><td>0.001959689  </td><td>0.1199207    </td><td> 1.5143072   </td></tr>\n",
       "\t<tr><td>snp_CHOL_2207</td><td>ZNF282       </td><td>-3.308478    </td><td>0.001959916  </td><td>0.1199207    </td><td>-0.6705332   </td></tr>\n",
       "\t<tr><td>snp_CHOL_3293</td><td>IRAK4        </td><td>-3.307536    </td><td>0.001965113  </td><td>0.1201813    </td><td>-1.1261844   </td></tr>\n",
       "\t<tr><td>snp_CHOL_3605</td><td>MIA2         </td><td>-3.307159    </td><td>0.001967193  </td><td>0.1202300    </td><td>-3.7230680   </td></tr>\n",
       "\t<tr><td>snp_CHOL_4461</td><td>HSD11B1L     </td><td> 3.307052    </td><td>0.001967785  </td><td>0.1202300    </td><td> 1.6320183   </td></tr>\n",
       "\t<tr><td>snp_CHOL_2492</td><td>RGP1         </td><td>-3.306384    </td><td>0.001971487  </td><td>0.1202402    </td><td>-1.9565922   </td></tr>\n",
       "\t<tr><td>snp_CHOL_316 </td><td>THBS3        </td><td>-3.306344    </td><td>0.001971704  </td><td>0.1202402    </td><td>-1.5945169   </td></tr>\n",
       "\t<tr><td>snp_CHOL_317 </td><td>THBS3        </td><td>-3.306344    </td><td>0.001971704  </td><td>0.1202402    </td><td>-1.5945169   </td></tr>\n",
       "\t<tr><td>snp_CHOL_321 </td><td>THBS3        </td><td>-3.306344    </td><td>0.001971704  </td><td>0.1202402    </td><td>-1.5945169   </td></tr>\n",
       "\t<tr><td>snp_CHOL_3546</td><td>POU4F1       </td><td> 3.305501    </td><td>0.001976384  </td><td>0.1204683    </td><td> 3.3333837   </td></tr>\n",
       "\t<tr><td>snp_CHOL_2719</td><td>CDH23        </td><td> 3.302889    </td><td>0.001990941  </td><td>0.1212979    </td><td> 2.7699596   </td></tr>\n",
       "\t<tr><td>snp_CHOL_3895</td><td>RNPS1        </td><td>-3.301774    </td><td>0.001997185  </td><td>0.1213899    </td><td>-0.8007879   </td></tr>\n",
       "\t<tr><td>snp_CHOL_3896</td><td>RNPS1        </td><td>-3.301774    </td><td>0.001997185  </td><td>0.1213899    </td><td>-0.8007879   </td></tr>\n",
       "\t<tr><td>snp_CHOL_3898</td><td>RNPS1        </td><td>-3.301774    </td><td>0.001997185  </td><td>0.1213899    </td><td>-0.8007879   </td></tr>\n",
       "\t<tr><td>snp_CHOL_3903</td><td>RNPS1        </td><td>-3.301774    </td><td>0.001997185  </td><td>0.1213899    </td><td>-0.8007879   </td></tr>\n",
       "\t<tr><td>snp_CHOL_3906</td><td>RNPS1        </td><td>-3.301774    </td><td>0.001997185  </td><td>0.1213899    </td><td>-0.8007879   </td></tr>\n",
       "\t<tr><td>snp_CHOL_314 </td><td>ASH1L        </td><td> 3.301356    </td><td>0.001999533  </td><td>0.1214749    </td><td> 1.6026416   </td></tr>\n",
       "</tbody>\n",
       "</table>\n"
      ],
      "text/latex": [
       "\\begin{tabular}{r|llllll}\n",
       " snps & gene & statistic & pvalue & FDR & beta\\\\\n",
       "\\hline\n",
       "\t snp\\_CHOL\\_291  & LCE1F             &       Inf         & 2.225074e-308     & 6.338296e-305     & 0.9145693        \\\\\n",
       "\t snp\\_CHOL\\_323  & SNORA42           &       Inf         & 2.225074e-308     & 6.338296e-305     & 0.4350239        \\\\\n",
       "\t snp\\_CHOL\\_324  & SNORA42           &       Inf         & 2.225074e-308     & 6.338296e-305     & 0.4350239        \\\\\n",
       "\t snp\\_CHOL\\_332  & SNORA42           &       Inf         & 2.225074e-308     & 6.338296e-305     & 0.4350239        \\\\\n",
       "\t snp\\_CHOL\\_341  & OR10T2            & 429706394         & 2.225074e-308     & 6.338296e-305     & 0.8102189        \\\\\n",
       "\t snp\\_CHOL\\_344  & OR10T2            & 429706394         & 2.225074e-308     & 6.338296e-305     & 0.8102189        \\\\\n",
       "\t snp\\_CHOL\\_553  & OR2L2             & 429706394         & 2.225074e-308     & 6.338296e-305     & 0.4850154        \\\\\n",
       "\t snp\\_CHOL\\_547  & OR2M4             &       Inf         & 2.225074e-308     & 6.338296e-305     & 1.5477114        \\\\\n",
       "\t snp\\_CHOL\\_552  & OR2T4             &       Inf         & 2.225074e-308     & 6.338296e-305     & 0.4272266        \\\\\n",
       "\t snp\\_CHOL\\_553  & OR2T3             & 429706394         & 2.225074e-308     & 6.338296e-305     & 0.4850154        \\\\\n",
       "\t snp\\_CHOL\\_553  & OR2T5             & 429706394         & 2.225074e-308     & 6.338296e-305     & 0.8102189        \\\\\n",
       "\t snp\\_CHOL\\_553  & OR2G6             & 429706394         & 2.225074e-308     & 6.338296e-305     & 0.4850154        \\\\\n",
       "\t snp\\_CHOL\\_898  & RESP18            &       Inf         & 2.225074e-308     & 6.338296e-305     & 0.4205507        \\\\\n",
       "\t snp\\_CHOL\\_932  & SPATA3            & 429706394         & 2.225074e-308     & 6.338296e-305     & 0.3186719        \\\\\n",
       "\t snp\\_CHOL\\_934  & SPATA3            & 429706394         & 2.225074e-308     & 6.338296e-305     & 0.3186719        \\\\\n",
       "\t snp\\_CHOL\\_1040 & LOC646498         &       Inf         & 2.225074e-308     & 6.338296e-305     & 0.4460951        \\\\\n",
       "\t snp\\_CHOL\\_1053 & IQCF3             & 429706394         & 2.225074e-308     & 6.338296e-305     & 0.9999699        \\\\\n",
       "\t snp\\_CHOL\\_1067 & IQCF3             & 429706394         & 2.225074e-308     & 6.338296e-305     & 0.9999699        \\\\\n",
       "\t snp\\_CHOL\\_1170 & PRR23C            &       Inf         & 2.225074e-308     & 6.338296e-305     & 0.3956841        \\\\\n",
       "\t snp\\_CHOL\\_1262 & SCARNA22          & 429706394         & 2.225074e-308     & 6.338296e-305     & 0.3979704        \\\\\n",
       "\t snp\\_CHOL\\_1317 & PDCL2             &       Inf         & 2.225074e-308     & 6.338296e-305     & 0.3879798        \\\\\n",
       "\t snp\\_CHOL\\_1607 & FTMT              &       Inf         & 2.225074e-308     & 6.338296e-305     & 0.4306129        \\\\\n",
       "\t snp\\_CHOL\\_2018 & FERD3L            &       Inf         & 2.225074e-308     & 6.338296e-305     & 0.1380213        \\\\\n",
       "\t snp\\_CHOL\\_2198 & OR6B1             & 303848305         & 2.225074e-308     & 6.338296e-305     & 0.4346355        \\\\\n",
       "\t snp\\_CHOL\\_2694 & C10orf40          &       Inf         & 2.225074e-308     & 6.338296e-305     & 0.3536805        \\\\\n",
       "\t snp\\_CHOL\\_2885 & OR2D2             &       Inf         & 2.225074e-308     & 6.338296e-305     & 0.3446530        \\\\\n",
       "\t snp\\_CHOL\\_2886 & OR2D2             &       Inf         & 2.225074e-308     & 6.338296e-305     & 0.3446530        \\\\\n",
       "\t snp\\_CHOL\\_2907 & MRGPRX2           &       Inf         & 2.225074e-308     & 6.338296e-305     & 0.3683861        \\\\\n",
       "\t snp\\_CHOL\\_2973 & OR9G9             &       Inf         & 2.225074e-308     & 6.338296e-305     & 0.4045313        \\\\\n",
       "\t snp\\_CHOL\\_2974 & OR9G9             &       Inf         & 2.225074e-308     & 6.338296e-305     & 0.4045313        \\\\\n",
       "\t ⋮ & ⋮ & ⋮ & ⋮ & ⋮ & ⋮\\\\\n",
       "\t snp\\_CHOL\\_3357 & INHBC             &  3.318473         & 0.001905573       & 0.1173539         &  4.9525994       \\\\\n",
       "\t snp\\_CHOL\\_3075 & NUMA1             &  3.318357         & 0.001906193       & 0.1173539         &  0.9006772       \\\\\n",
       "\t snp\\_CHOL\\_3699 & SIVA1             &  3.318211         & 0.001906980       & 0.1173539         &  1.0248901       \\\\\n",
       "\t snp\\_CHOL\\_2    & HES4              & -3.316406         & 0.001916692       & 0.1178901         & -1.9298486       \\\\\n",
       "\t snp\\_CHOL\\_835  & NEUROD1           &  3.316250         & 0.001917533       & 0.1178901         &  2.9647076       \\\\\n",
       "\t snp\\_CHOL\\_553  & OR2L13            &  3.316073         & 0.001918491       & 0.1178925         &  1.6227345       \\\\\n",
       "\t snp\\_CHOL\\_3699 & GPR132            &  3.315170         & 0.001923370       & 0.1181357         &  3.0003471       \\\\\n",
       "\t snp\\_CHOL\\_843  & HIBCH             &  3.314566         & 0.001926640       & 0.1182798         &  1.1766409       \\\\\n",
       "\t snp\\_CHOL\\_3208 & VPS26B            &  3.313239         & 0.001933846       & 0.1186171         &  0.8010236       \\\\\n",
       "\t snp\\_CHOL\\_4525 & ZNF433            & -3.313214         & 0.001933985       & 0.1186171         & -3.0116704       \\\\\n",
       "\t snp\\_CHOL\\_10   & B3GALT6           &  3.310000         & 0.001951547       & 0.1196370         &  1.0354507       \\\\\n",
       "\t snp\\_CHOL\\_5028 & APOBEC3G          & -3.308533         & 0.001959609       & 0.1199207         & -2.6894250       \\\\\n",
       "\t snp\\_CHOL\\_5029 & APOBEC3G          & -3.308533         & 0.001959609       & 0.1199207         & -2.6894250       \\\\\n",
       "\t snp\\_CHOL\\_43   & FBXO44            &  3.308519         & 0.001959689       & 0.1199207         &  1.5143072       \\\\\n",
       "\t snp\\_CHOL\\_2207 & ZNF282            & -3.308478         & 0.001959916       & 0.1199207         & -0.6705332       \\\\\n",
       "\t snp\\_CHOL\\_3293 & IRAK4             & -3.307536         & 0.001965113       & 0.1201813         & -1.1261844       \\\\\n",
       "\t snp\\_CHOL\\_3605 & MIA2              & -3.307159         & 0.001967193       & 0.1202300         & -3.7230680       \\\\\n",
       "\t snp\\_CHOL\\_4461 & HSD11B1L          &  3.307052         & 0.001967785       & 0.1202300         &  1.6320183       \\\\\n",
       "\t snp\\_CHOL\\_2492 & RGP1              & -3.306384         & 0.001971487       & 0.1202402         & -1.9565922       \\\\\n",
       "\t snp\\_CHOL\\_316  & THBS3             & -3.306344         & 0.001971704       & 0.1202402         & -1.5945169       \\\\\n",
       "\t snp\\_CHOL\\_317  & THBS3             & -3.306344         & 0.001971704       & 0.1202402         & -1.5945169       \\\\\n",
       "\t snp\\_CHOL\\_321  & THBS3             & -3.306344         & 0.001971704       & 0.1202402         & -1.5945169       \\\\\n",
       "\t snp\\_CHOL\\_3546 & POU4F1            &  3.305501         & 0.001976384       & 0.1204683         &  3.3333837       \\\\\n",
       "\t snp\\_CHOL\\_2719 & CDH23             &  3.302889         & 0.001990941       & 0.1212979         &  2.7699596       \\\\\n",
       "\t snp\\_CHOL\\_3895 & RNPS1             & -3.301774         & 0.001997185       & 0.1213899         & -0.8007879       \\\\\n",
       "\t snp\\_CHOL\\_3896 & RNPS1             & -3.301774         & 0.001997185       & 0.1213899         & -0.8007879       \\\\\n",
       "\t snp\\_CHOL\\_3898 & RNPS1             & -3.301774         & 0.001997185       & 0.1213899         & -0.8007879       \\\\\n",
       "\t snp\\_CHOL\\_3903 & RNPS1             & -3.301774         & 0.001997185       & 0.1213899         & -0.8007879       \\\\\n",
       "\t snp\\_CHOL\\_3906 & RNPS1             & -3.301774         & 0.001997185       & 0.1213899         & -0.8007879       \\\\\n",
       "\t snp\\_CHOL\\_314  & ASH1L             &  3.301356         & 0.001999533       & 0.1214749         &  1.6026416       \\\\\n",
       "\\end{tabular}\n"
      ],
      "text/markdown": [
       "\n",
       "snps | gene | statistic | pvalue | FDR | beta | \n",
       "|---|---|---|---|---|---|---|---|---|---|---|---|---|---|---|---|---|---|---|---|---|---|---|---|---|---|---|---|---|---|---|---|---|---|---|---|---|---|---|---|---|---|---|---|---|---|---|---|---|---|---|---|---|---|---|---|---|---|---|---|---|\n",
       "| snp_CHOL_291  | LCE1F         |       Inf     | 2.225074e-308 | 6.338296e-305 | 0.9145693     | \n",
       "| snp_CHOL_323  | SNORA42       |       Inf     | 2.225074e-308 | 6.338296e-305 | 0.4350239     | \n",
       "| snp_CHOL_324  | SNORA42       |       Inf     | 2.225074e-308 | 6.338296e-305 | 0.4350239     | \n",
       "| snp_CHOL_332  | SNORA42       |       Inf     | 2.225074e-308 | 6.338296e-305 | 0.4350239     | \n",
       "| snp_CHOL_341  | OR10T2        | 429706394     | 2.225074e-308 | 6.338296e-305 | 0.8102189     | \n",
       "| snp_CHOL_344  | OR10T2        | 429706394     | 2.225074e-308 | 6.338296e-305 | 0.8102189     | \n",
       "| snp_CHOL_553  | OR2L2         | 429706394     | 2.225074e-308 | 6.338296e-305 | 0.4850154     | \n",
       "| snp_CHOL_547  | OR2M4         |       Inf     | 2.225074e-308 | 6.338296e-305 | 1.5477114     | \n",
       "| snp_CHOL_552  | OR2T4         |       Inf     | 2.225074e-308 | 6.338296e-305 | 0.4272266     | \n",
       "| snp_CHOL_553  | OR2T3         | 429706394     | 2.225074e-308 | 6.338296e-305 | 0.4850154     | \n",
       "| snp_CHOL_553  | OR2T5         | 429706394     | 2.225074e-308 | 6.338296e-305 | 0.8102189     | \n",
       "| snp_CHOL_553  | OR2G6         | 429706394     | 2.225074e-308 | 6.338296e-305 | 0.4850154     | \n",
       "| snp_CHOL_898  | RESP18        |       Inf     | 2.225074e-308 | 6.338296e-305 | 0.4205507     | \n",
       "| snp_CHOL_932  | SPATA3        | 429706394     | 2.225074e-308 | 6.338296e-305 | 0.3186719     | \n",
       "| snp_CHOL_934  | SPATA3        | 429706394     | 2.225074e-308 | 6.338296e-305 | 0.3186719     | \n",
       "| snp_CHOL_1040 | LOC646498     |       Inf     | 2.225074e-308 | 6.338296e-305 | 0.4460951     | \n",
       "| snp_CHOL_1053 | IQCF3         | 429706394     | 2.225074e-308 | 6.338296e-305 | 0.9999699     | \n",
       "| snp_CHOL_1067 | IQCF3         | 429706394     | 2.225074e-308 | 6.338296e-305 | 0.9999699     | \n",
       "| snp_CHOL_1170 | PRR23C        |       Inf     | 2.225074e-308 | 6.338296e-305 | 0.3956841     | \n",
       "| snp_CHOL_1262 | SCARNA22      | 429706394     | 2.225074e-308 | 6.338296e-305 | 0.3979704     | \n",
       "| snp_CHOL_1317 | PDCL2         |       Inf     | 2.225074e-308 | 6.338296e-305 | 0.3879798     | \n",
       "| snp_CHOL_1607 | FTMT          |       Inf     | 2.225074e-308 | 6.338296e-305 | 0.4306129     | \n",
       "| snp_CHOL_2018 | FERD3L        |       Inf     | 2.225074e-308 | 6.338296e-305 | 0.1380213     | \n",
       "| snp_CHOL_2198 | OR6B1         | 303848305     | 2.225074e-308 | 6.338296e-305 | 0.4346355     | \n",
       "| snp_CHOL_2694 | C10orf40      |       Inf     | 2.225074e-308 | 6.338296e-305 | 0.3536805     | \n",
       "| snp_CHOL_2885 | OR2D2         |       Inf     | 2.225074e-308 | 6.338296e-305 | 0.3446530     | \n",
       "| snp_CHOL_2886 | OR2D2         |       Inf     | 2.225074e-308 | 6.338296e-305 | 0.3446530     | \n",
       "| snp_CHOL_2907 | MRGPRX2       |       Inf     | 2.225074e-308 | 6.338296e-305 | 0.3683861     | \n",
       "| snp_CHOL_2973 | OR9G9         |       Inf     | 2.225074e-308 | 6.338296e-305 | 0.4045313     | \n",
       "| snp_CHOL_2974 | OR9G9         |       Inf     | 2.225074e-308 | 6.338296e-305 | 0.4045313     | \n",
       "| ⋮ | ⋮ | ⋮ | ⋮ | ⋮ | ⋮ | \n",
       "| snp_CHOL_3357 | INHBC         |  3.318473     | 0.001905573   | 0.1173539     |  4.9525994    | \n",
       "| snp_CHOL_3075 | NUMA1         |  3.318357     | 0.001906193   | 0.1173539     |  0.9006772    | \n",
       "| snp_CHOL_3699 | SIVA1         |  3.318211     | 0.001906980   | 0.1173539     |  1.0248901    | \n",
       "| snp_CHOL_2    | HES4          | -3.316406     | 0.001916692   | 0.1178901     | -1.9298486    | \n",
       "| snp_CHOL_835  | NEUROD1       |  3.316250     | 0.001917533   | 0.1178901     |  2.9647076    | \n",
       "| snp_CHOL_553  | OR2L13        |  3.316073     | 0.001918491   | 0.1178925     |  1.6227345    | \n",
       "| snp_CHOL_3699 | GPR132        |  3.315170     | 0.001923370   | 0.1181357     |  3.0003471    | \n",
       "| snp_CHOL_843  | HIBCH         |  3.314566     | 0.001926640   | 0.1182798     |  1.1766409    | \n",
       "| snp_CHOL_3208 | VPS26B        |  3.313239     | 0.001933846   | 0.1186171     |  0.8010236    | \n",
       "| snp_CHOL_4525 | ZNF433        | -3.313214     | 0.001933985   | 0.1186171     | -3.0116704    | \n",
       "| snp_CHOL_10   | B3GALT6       |  3.310000     | 0.001951547   | 0.1196370     |  1.0354507    | \n",
       "| snp_CHOL_5028 | APOBEC3G      | -3.308533     | 0.001959609   | 0.1199207     | -2.6894250    | \n",
       "| snp_CHOL_5029 | APOBEC3G      | -3.308533     | 0.001959609   | 0.1199207     | -2.6894250    | \n",
       "| snp_CHOL_43   | FBXO44        |  3.308519     | 0.001959689   | 0.1199207     |  1.5143072    | \n",
       "| snp_CHOL_2207 | ZNF282        | -3.308478     | 0.001959916   | 0.1199207     | -0.6705332    | \n",
       "| snp_CHOL_3293 | IRAK4         | -3.307536     | 0.001965113   | 0.1201813     | -1.1261844    | \n",
       "| snp_CHOL_3605 | MIA2          | -3.307159     | 0.001967193   | 0.1202300     | -3.7230680    | \n",
       "| snp_CHOL_4461 | HSD11B1L      |  3.307052     | 0.001967785   | 0.1202300     |  1.6320183    | \n",
       "| snp_CHOL_2492 | RGP1          | -3.306384     | 0.001971487   | 0.1202402     | -1.9565922    | \n",
       "| snp_CHOL_316  | THBS3         | -3.306344     | 0.001971704   | 0.1202402     | -1.5945169    | \n",
       "| snp_CHOL_317  | THBS3         | -3.306344     | 0.001971704   | 0.1202402     | -1.5945169    | \n",
       "| snp_CHOL_321  | THBS3         | -3.306344     | 0.001971704   | 0.1202402     | -1.5945169    | \n",
       "| snp_CHOL_3546 | POU4F1        |  3.305501     | 0.001976384   | 0.1204683     |  3.3333837    | \n",
       "| snp_CHOL_2719 | CDH23         |  3.302889     | 0.001990941   | 0.1212979     |  2.7699596    | \n",
       "| snp_CHOL_3895 | RNPS1         | -3.301774     | 0.001997185   | 0.1213899     | -0.8007879    | \n",
       "| snp_CHOL_3896 | RNPS1         | -3.301774     | 0.001997185   | 0.1213899     | -0.8007879    | \n",
       "| snp_CHOL_3898 | RNPS1         | -3.301774     | 0.001997185   | 0.1213899     | -0.8007879    | \n",
       "| snp_CHOL_3903 | RNPS1         | -3.301774     | 0.001997185   | 0.1213899     | -0.8007879    | \n",
       "| snp_CHOL_3906 | RNPS1         | -3.301774     | 0.001997185   | 0.1213899     | -0.8007879    | \n",
       "| snp_CHOL_314  | ASH1L         |  3.301356     | 0.001999533   | 0.1214749     |  1.6026416    | \n",
       "\n",
       "\n"
      ],
      "text/plain": [
       "     snps          gene      statistic pvalue        FDR           beta      \n",
       "1    snp_CHOL_291  LCE1F           Inf 2.225074e-308 6.338296e-305 0.9145693 \n",
       "2    snp_CHOL_323  SNORA42         Inf 2.225074e-308 6.338296e-305 0.4350239 \n",
       "3    snp_CHOL_324  SNORA42         Inf 2.225074e-308 6.338296e-305 0.4350239 \n",
       "4    snp_CHOL_332  SNORA42         Inf 2.225074e-308 6.338296e-305 0.4350239 \n",
       "5    snp_CHOL_341  OR10T2    429706394 2.225074e-308 6.338296e-305 0.8102189 \n",
       "6    snp_CHOL_344  OR10T2    429706394 2.225074e-308 6.338296e-305 0.8102189 \n",
       "7    snp_CHOL_553  OR2L2     429706394 2.225074e-308 6.338296e-305 0.4850154 \n",
       "8    snp_CHOL_547  OR2M4           Inf 2.225074e-308 6.338296e-305 1.5477114 \n",
       "9    snp_CHOL_552  OR2T4           Inf 2.225074e-308 6.338296e-305 0.4272266 \n",
       "10   snp_CHOL_553  OR2T3     429706394 2.225074e-308 6.338296e-305 0.4850154 \n",
       "11   snp_CHOL_553  OR2T5     429706394 2.225074e-308 6.338296e-305 0.8102189 \n",
       "12   snp_CHOL_553  OR2G6     429706394 2.225074e-308 6.338296e-305 0.4850154 \n",
       "13   snp_CHOL_898  RESP18          Inf 2.225074e-308 6.338296e-305 0.4205507 \n",
       "14   snp_CHOL_932  SPATA3    429706394 2.225074e-308 6.338296e-305 0.3186719 \n",
       "15   snp_CHOL_934  SPATA3    429706394 2.225074e-308 6.338296e-305 0.3186719 \n",
       "16   snp_CHOL_1040 LOC646498       Inf 2.225074e-308 6.338296e-305 0.4460951 \n",
       "17   snp_CHOL_1053 IQCF3     429706394 2.225074e-308 6.338296e-305 0.9999699 \n",
       "18   snp_CHOL_1067 IQCF3     429706394 2.225074e-308 6.338296e-305 0.9999699 \n",
       "19   snp_CHOL_1170 PRR23C          Inf 2.225074e-308 6.338296e-305 0.3956841 \n",
       "20   snp_CHOL_1262 SCARNA22  429706394 2.225074e-308 6.338296e-305 0.3979704 \n",
       "21   snp_CHOL_1317 PDCL2           Inf 2.225074e-308 6.338296e-305 0.3879798 \n",
       "22   snp_CHOL_1607 FTMT            Inf 2.225074e-308 6.338296e-305 0.4306129 \n",
       "23   snp_CHOL_2018 FERD3L          Inf 2.225074e-308 6.338296e-305 0.1380213 \n",
       "24   snp_CHOL_2198 OR6B1     303848305 2.225074e-308 6.338296e-305 0.4346355 \n",
       "25   snp_CHOL_2694 C10orf40        Inf 2.225074e-308 6.338296e-305 0.3536805 \n",
       "26   snp_CHOL_2885 OR2D2           Inf 2.225074e-308 6.338296e-305 0.3446530 \n",
       "27   snp_CHOL_2886 OR2D2           Inf 2.225074e-308 6.338296e-305 0.3446530 \n",
       "28   snp_CHOL_2907 MRGPRX2         Inf 2.225074e-308 6.338296e-305 0.3683861 \n",
       "29   snp_CHOL_2973 OR9G9           Inf 2.225074e-308 6.338296e-305 0.4045313 \n",
       "30   snp_CHOL_2974 OR9G9           Inf 2.225074e-308 6.338296e-305 0.4045313 \n",
       "⋮    ⋮             ⋮         ⋮         ⋮             ⋮             ⋮         \n",
       "2081 snp_CHOL_3357 INHBC      3.318473 0.001905573   0.1173539      4.9525994\n",
       "2082 snp_CHOL_3075 NUMA1      3.318357 0.001906193   0.1173539      0.9006772\n",
       "2083 snp_CHOL_3699 SIVA1      3.318211 0.001906980   0.1173539      1.0248901\n",
       "2084 snp_CHOL_2    HES4      -3.316406 0.001916692   0.1178901     -1.9298486\n",
       "2085 snp_CHOL_835  NEUROD1    3.316250 0.001917533   0.1178901      2.9647076\n",
       "2086 snp_CHOL_553  OR2L13     3.316073 0.001918491   0.1178925      1.6227345\n",
       "2087 snp_CHOL_3699 GPR132     3.315170 0.001923370   0.1181357      3.0003471\n",
       "2088 snp_CHOL_843  HIBCH      3.314566 0.001926640   0.1182798      1.1766409\n",
       "2089 snp_CHOL_3208 VPS26B     3.313239 0.001933846   0.1186171      0.8010236\n",
       "2090 snp_CHOL_4525 ZNF433    -3.313214 0.001933985   0.1186171     -3.0116704\n",
       "2091 snp_CHOL_10   B3GALT6    3.310000 0.001951547   0.1196370      1.0354507\n",
       "2092 snp_CHOL_5028 APOBEC3G  -3.308533 0.001959609   0.1199207     -2.6894250\n",
       "2093 snp_CHOL_5029 APOBEC3G  -3.308533 0.001959609   0.1199207     -2.6894250\n",
       "2094 snp_CHOL_43   FBXO44     3.308519 0.001959689   0.1199207      1.5143072\n",
       "2095 snp_CHOL_2207 ZNF282    -3.308478 0.001959916   0.1199207     -0.6705332\n",
       "2096 snp_CHOL_3293 IRAK4     -3.307536 0.001965113   0.1201813     -1.1261844\n",
       "2097 snp_CHOL_3605 MIA2      -3.307159 0.001967193   0.1202300     -3.7230680\n",
       "2098 snp_CHOL_4461 HSD11B1L   3.307052 0.001967785   0.1202300      1.6320183\n",
       "2099 snp_CHOL_2492 RGP1      -3.306384 0.001971487   0.1202402     -1.9565922\n",
       "2100 snp_CHOL_316  THBS3     -3.306344 0.001971704   0.1202402     -1.5945169\n",
       "2101 snp_CHOL_317  THBS3     -3.306344 0.001971704   0.1202402     -1.5945169\n",
       "2102 snp_CHOL_321  THBS3     -3.306344 0.001971704   0.1202402     -1.5945169\n",
       "2103 snp_CHOL_3546 POU4F1     3.305501 0.001976384   0.1204683      3.3333837\n",
       "2104 snp_CHOL_2719 CDH23      3.302889 0.001990941   0.1212979      2.7699596\n",
       "2105 snp_CHOL_3895 RNPS1     -3.301774 0.001997185   0.1213899     -0.8007879\n",
       "2106 snp_CHOL_3896 RNPS1     -3.301774 0.001997185   0.1213899     -0.8007879\n",
       "2107 snp_CHOL_3898 RNPS1     -3.301774 0.001997185   0.1213899     -0.8007879\n",
       "2108 snp_CHOL_3903 RNPS1     -3.301774 0.001997185   0.1213899     -0.8007879\n",
       "2109 snp_CHOL_3906 RNPS1     -3.301774 0.001997185   0.1213899     -0.8007879\n",
       "2110 snp_CHOL_314  ASH1L      3.301356 0.001999533   0.1214749      1.6026416"
      ]
     },
     "metadata": {},
     "output_type": "display_data"
    }
   ],
   "source": [
    "me$cis$eqtls"
   ]
  },
  {
   "cell_type": "code",
   "execution_count": 101,
   "metadata": {
    "collapsed": false
   },
   "outputs": [
    {
     "data": {
      "text/html": [
       "<table>\n",
       "<thead><tr><th scope=col>id</th><th scope=col>TCGA.3X.AAV9.01A</th><th scope=col>TCGA.3X.AAVA.01A</th><th scope=col>TCGA.3X.AAVB.01A</th><th scope=col>TCGA.3X.AAVC.01A</th><th scope=col>TCGA.3X.AAVE.01A</th><th scope=col>TCGA.4G.AAZO.01A</th><th scope=col>TCGA.4G.AAZT.01A</th><th scope=col>TCGA.W5.AA2G.01A</th><th scope=col>TCGA.W5.AA2H.01A</th><th scope=col>⋯</th><th scope=col>TCGA.YR.A95A.01A</th><th scope=col>TCGA.ZD.A8I3.01A</th><th scope=col>TCGA.ZH.A8Y1.01A</th><th scope=col>TCGA.ZH.A8Y2.01A</th><th scope=col>TCGA.ZH.A8Y4.01A</th><th scope=col>TCGA.ZH.A8Y5.01A</th><th scope=col>TCGA.ZH.A8Y6.01A</th><th scope=col>TCGA.ZH.A8Y8.01A</th><th scope=col>TCGA.ZU.A8S4.01A</th><th scope=col>TCGA.ZU.A8S4.11A</th></tr></thead>\n",
       "<tbody>\n",
       "\t<tr><td>mutation</td><td>1       </td><td>1       </td><td>1       </td><td>1       </td><td>1       </td><td>1       </td><td>1       </td><td>1       </td><td>1       </td><td>⋯       </td><td>1       </td><td>1       </td><td>1       </td><td>1       </td><td>1       </td><td>1       </td><td>1       </td><td>1       </td><td>1       </td><td>0       </td></tr>\n",
       "</tbody>\n",
       "</table>\n"
      ],
      "text/latex": [
       "\\begin{tabular}{r|lllllllllllllllllllllllllllllllllllllllllllll}\n",
       " id & TCGA.3X.AAV9.01A & TCGA.3X.AAVA.01A & TCGA.3X.AAVB.01A & TCGA.3X.AAVC.01A & TCGA.3X.AAVE.01A & TCGA.4G.AAZO.01A & TCGA.4G.AAZT.01A & TCGA.W5.AA2G.01A & TCGA.W5.AA2H.01A & ⋯ & TCGA.YR.A95A.01A & TCGA.ZD.A8I3.01A & TCGA.ZH.A8Y1.01A & TCGA.ZH.A8Y2.01A & TCGA.ZH.A8Y4.01A & TCGA.ZH.A8Y5.01A & TCGA.ZH.A8Y6.01A & TCGA.ZH.A8Y8.01A & TCGA.ZU.A8S4.01A & TCGA.ZU.A8S4.11A\\\\\n",
       "\\hline\n",
       "\t mutation & 1        & 1        & 1        & 1        & 1        & 1        & 1        & 1        & 1        & ⋯        & 1        & 1        & 1        & 1        & 1        & 1        & 1        & 1        & 1        & 0       \\\\\n",
       "\\end{tabular}\n"
      ],
      "text/markdown": [
       "\n",
       "id | TCGA.3X.AAV9.01A | TCGA.3X.AAVA.01A | TCGA.3X.AAVB.01A | TCGA.3X.AAVC.01A | TCGA.3X.AAVE.01A | TCGA.4G.AAZO.01A | TCGA.4G.AAZT.01A | TCGA.W5.AA2G.01A | TCGA.W5.AA2H.01A | ⋯ | TCGA.YR.A95A.01A | TCGA.ZD.A8I3.01A | TCGA.ZH.A8Y1.01A | TCGA.ZH.A8Y2.01A | TCGA.ZH.A8Y4.01A | TCGA.ZH.A8Y5.01A | TCGA.ZH.A8Y6.01A | TCGA.ZH.A8Y8.01A | TCGA.ZU.A8S4.01A | TCGA.ZU.A8S4.11A | \n",
       "|---|\n",
       "| mutation | 1        | 1        | 1        | 1        | 1        | 1        | 1        | 1        | 1        | ⋯        | 1        | 1        | 1        | 1        | 1        | 1        | 1        | 1        | 1        | 0        | \n",
       "\n",
       "\n"
      ],
      "text/plain": [
       "  id       TCGA.3X.AAV9.01A TCGA.3X.AAVA.01A TCGA.3X.AAVB.01A TCGA.3X.AAVC.01A\n",
       "1 mutation 1                1                1                1               \n",
       "  TCGA.3X.AAVE.01A TCGA.4G.AAZO.01A TCGA.4G.AAZT.01A TCGA.W5.AA2G.01A\n",
       "1 1                1                1                1               \n",
       "  TCGA.W5.AA2H.01A ⋯ TCGA.YR.A95A.01A TCGA.ZD.A8I3.01A TCGA.ZH.A8Y1.01A\n",
       "1 1                ⋯ 1                1                1               \n",
       "  TCGA.ZH.A8Y2.01A TCGA.ZH.A8Y4.01A TCGA.ZH.A8Y5.01A TCGA.ZH.A8Y6.01A\n",
       "1 1                1                1                1               \n",
       "  TCGA.ZH.A8Y8.01A TCGA.ZU.A8S4.01A TCGA.ZU.A8S4.11A\n",
       "1 1                1                0               "
      ]
     },
     "metadata": {},
     "output_type": "display_data"
    }
   ],
   "source": []
  },
  {
   "cell_type": "code",
   "execution_count": 114,
   "metadata": {
    "collapsed": false
   },
   "outputs": [],
   "source": []
  },
  {
   "cell_type": "code",
   "execution_count": 132,
   "metadata": {
    "collapsed": false
   },
   "outputs": [
    {
     "data": {
      "text/html": [
       "FALSE"
      ],
      "text/latex": [
       "FALSE"
      ],
      "text/markdown": [
       "FALSE"
      ],
      "text/plain": [
       "[1] FALSE"
      ]
     },
     "metadata": {},
     "output_type": "display_data"
    }
   ],
   "source": [
    "!0 %in% L"
   ]
  },
  {
   "cell_type": "code",
   "execution_count": null,
   "metadata": {
    "collapsed": true
   },
   "outputs": [],
   "source": []
  }
 ],
 "metadata": {
  "kernelspec": {
   "display_name": "R",
   "language": "R",
   "name": "ir"
  },
  "language_info": {
   "codemirror_mode": "r",
   "file_extension": ".r",
   "mimetype": "text/x-r-source",
   "name": "R",
   "pygments_lexer": "r",
   "version": "3.3.2"
  }
 },
 "nbformat": 4,
 "nbformat_minor": 2
}

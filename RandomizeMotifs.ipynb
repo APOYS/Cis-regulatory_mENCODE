{
 "cells": [
  {
   "cell_type": "code",
   "execution_count": 1,
   "metadata": {
    "collapsed": true
   },
   "outputs": [],
   "source": [
    "# takes a set of motifs in MEME fromat\n",
    "# returns a set of motifs with their columns and rows shuffled\n"
   ]
  },
  {
   "cell_type": "code",
   "execution_count": 5,
   "metadata": {
    "collapsed": true
   },
   "outputs": [],
   "source": []
  },
  {
   "cell_type": "code",
   "execution_count": 22,
   "metadata": {
    "collapsed": false,
    "scrolled": false
   },
   "outputs": [
    {
     "name": "stdout",
     "output_type": "stream",
     "text": [
      "Hindbrain_E15.5_H3K27ac_3_1_0.576_0\n",
      "letter-probability matrix: alength= 4 w= 9 nsites= 100 E= 1.0e-1\n",
      "0.059541\t0.060485\t0.050368\t0.829605\n",
      "0.042853\t0.854024\t0.073552\t0.029571\n",
      "0.110955\t0.038556\t0.794319\t0.05617\n",
      "0.104377\t0.073523\t0.083876\t0.738224\n",
      "0.774647\t0.07472\t0.075648\t0.074985\n",
      "0.82641\t0.060256\t0.046689\t0.066645\n",
      "0.085185\t0.068018\t0.810106\t0.036691\n",
      "0.054329\t0.037626\t0.08079\t0.827255\n",
      "0.051016\t0.058172\t0.80255\t0.088263\n",
      "\n"
     ]
    }
   ],
   "source": [
    "import random as rd\n",
    "\n",
    "\n",
    "\n",
    "def load_MEME(filename):\n",
    "    file=open(filename)\n",
    "    seq=file.read().split(\"MOTIF\")\n",
    "    seq=seq[1:]\n",
    "    motifs={}\n",
    "    infos={}\n",
    "    for s in range(len(seq)):\n",
    "        t=seq[s].strip().split(\"\\n\")\n",
    "        name=t[0]\n",
    "        motifs[name]=t[2:]\n",
    "        infos[name]=t[0:2]\n",
    "    for m in motifs:\n",
    "        tdict={'A':[],'C':[],'G':[],'T':[]}\n",
    "        for pos in range(len(motifs[m])):\n",
    "            tmp=motifs[m][pos].strip().split(\"\\t\")\n",
    "            tdict['A']+=[float(tmp[0])]\n",
    "            tdict['C']+=[float(tmp[1])]\n",
    "            tdict['G']+=[float(tmp[2])]\n",
    "            tdict['T']+=[float(tmp[3])]\n",
    "            #tdict['E']+=[float(tmp[4])]\n",
    "        motifs[m]=tdict\n",
    "    \n",
    "    return motifs,infos\n",
    "\n",
    "\n",
    "# for each motif, print it in a random fashion\n",
    "\n",
    "def main():\n",
    "    \n",
    "    for m in ['Hindbrain_E15.5_H3K27ac_3_1_0.576_0']:\n",
    "        pwm = motifs[m]\n",
    "        info = infos[m]\n",
    "        order = range(len(pwm['A']))\n",
    "        randomorder = rd.sample(order,len(order))\n",
    "        #print '\\n'.join(info)\n",
    "        content = '\\n'.join(info)\n",
    "        for pos in randomorder:\n",
    "            charrandomorder = rd.sample(pwm.keys(),len(pwm.keys()))\n",
    "            line = []\n",
    "            for base in charrandomorder:\n",
    "                line += [str(pwm[base][pos])]\n",
    "            line = '\\t'.join(line)\n",
    "            #print line\n",
    "            content += '\\n'+line\n",
    "        print content +'\\n'\n",
    "    return "
   ]
  },
  {
   "cell_type": "code",
   "execution_count": null,
   "metadata": {
    "collapsed": true
   },
   "outputs": [],
   "source": []
  }
 ],
 "metadata": {
  "kernelspec": {
   "display_name": "Python 2",
   "language": "python",
   "name": "python2"
  },
  "language_info": {
   "codemirror_mode": {
    "name": "ipython",
    "version": 2
   },
   "file_extension": ".py",
   "mimetype": "text/x-python",
   "name": "python",
   "nbconvert_exporter": "python",
   "pygments_lexer": "ipython2",
   "version": "2.7.12"
  }
 },
 "nbformat": 4,
 "nbformat_minor": 0
}

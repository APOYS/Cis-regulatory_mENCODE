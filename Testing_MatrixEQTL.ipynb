{
 "cells": [
  {
   "cell_type": "code",
   "execution_count": 2,
   "metadata": {
    "collapsed": false
   },
   "outputs": [
    {
     "name": "stderr",
     "output_type": "stream",
     "text": [
      "Updating HTML index of packages in '.Library'\n",
      "Making 'packages.html' ... done\n"
     ]
    }
   ],
   "source": [
    "install.packages('MatrixEQTL', repos='http://cran.us.r-project.org')"
   ]
  },
  {
   "cell_type": "code",
   "execution_count": 3,
   "metadata": {
    "collapsed": false
   },
   "outputs": [
    {
     "name": "stderr",
     "output_type": "stream",
     "text": [
      "Loading required package: MatrixEQTL\n"
     ]
    }
   ],
   "source": [
    "require(\"MatrixEQTL\")"
   ]
  },
  {
   "cell_type": "code",
   "execution_count": 4,
   "metadata": {
    "collapsed": true
   },
   "outputs": [],
   "source": [
    "library(MatrixEQTL)\n"
   ]
  },
  {
   "cell_type": "code",
   "execution_count": 5,
   "metadata": {
    "collapsed": true
   },
   "outputs": [],
   "source": [
    "base.dir = find.package('MatrixEQTL');\n"
   ]
  },
  {
   "cell_type": "code",
   "execution_count": 7,
   "metadata": {
    "collapsed": false
   },
   "outputs": [],
   "source": [
    "useModel = modelLINEAR"
   ]
  },
  {
   "cell_type": "code",
   "execution_count": 9,
   "metadata": {
    "collapsed": false
   },
   "outputs": [],
   "source": [
    "# Linear model to use, modelANOVA, modelLINEAR, or modelLINEAR_CROSS\n",
    "useModel = modelLINEAR; # modelANOVA, modelLINEAR, or modelLINEAR_CROSS\n",
    "\n",
    "# Genotype file name\n",
    "SNP_file_name = paste(base.dir, \"/data/SNP.txt\", sep=\"\");\n",
    "snps_location_file_name = paste(base.dir, \"/data/snpsloc.txt\", sep=\"\");\n",
    "\n",
    "# Gene expression file name\n",
    "expression_file_name = paste(base.dir, \"/data/GE.txt\", sep=\"\");\n",
    "gene_location_file_name = paste(base.dir, \"/data/geneloc.txt\", sep=\"\");\n",
    "\n",
    "# Covariates file name\n",
    "# Set to character() for no covariates\n",
    "covariates_file_name = paste(base.dir, \"/data/Covariates.txt\", sep=\"\");\n",
    "\n",
    "# Output file name\n",
    "output_file_name_cis = tempfile();\n",
    "output_file_name_tra = tempfile();\n",
    "\n",
    "# Only associations significant at this level will be saved\n",
    "pvOutputThreshold_cis = 2e-2;\n",
    "pvOutputThreshold_tra = 1e-2;\n",
    "\n",
    "# Error covariance matrix\n",
    "# Set to numeric() for identity.\n",
    "errorCovariance = numeric();\n",
    "# errorCovariance = read.table(\"Sample_Data/errorCovariance.txt\");\n",
    "\n",
    "# Distance for local gene-SNP pairs\n",
    "cisDist = 1e6;"
   ]
  },
  {
   "cell_type": "code",
   "execution_count": 10,
   "metadata": {
    "collapsed": false
   },
   "outputs": [
    {
     "name": "stdout",
     "output_type": "stream",
     "text": [
      "Rows read:  15  done.\n",
      "Rows read:  10  done.\n",
      "Rows read:  2  done.\n"
     ]
    }
   ],
   "source": [
    "snps = SlicedData$new();\n",
    "snps$fileDelimiter = \"\\t\";      # the TAB character\n",
    "snps$fileOmitCharacters = \"NA\"; # denote missing values;\n",
    "snps$fileSkipRows = 1;          # one row of column labels\n",
    "snps$fileSkipColumns = 1;       # one column of row labels\n",
    "snps$fileSliceSize = 2000;      # read file in slices of 2,000 rows\n",
    "snps$LoadFile(SNP_file_name);\n",
    "\n",
    "## Load gene expression data\n",
    "\n",
    "gene = SlicedData$new();\n",
    "gene$fileDelimiter = \"\\t\";      # the TAB character\n",
    "gene$fileOmitCharacters = \"NA\"; # denote missing values;\n",
    "gene$fileSkipRows = 1;          # one row of column labels\n",
    "gene$fileSkipColumns = 1;       # one column of row labels\n",
    "gene$fileSliceSize = 2000;      # read file in slices of 2,000 rows\n",
    "gene$LoadFile(expression_file_name);\n",
    "\n",
    "## Load covariates\n",
    "\n",
    "cvrt = SlicedData$new();\n",
    "cvrt$fileDelimiter = \"\\t\";      # the TAB character\n",
    "cvrt$fileOmitCharacters = \"NA\"; # denote missing values;\n",
    "cvrt$fileSkipRows = 1;          # one row of column labels\n",
    "cvrt$fileSkipColumns = 1;       # one column of row labels\n",
    "if(length(covariates_file_name)>0) {\n",
    "cvrt$LoadFile(covariates_file_name);\n",
    "}"
   ]
  },
  {
   "cell_type": "code",
   "execution_count": 11,
   "metadata": {
    "collapsed": true
   },
   "outputs": [],
   "source": [
    "snpspos = read.table(snps_location_file_name, header = TRUE, stringsAsFactors = FALSE);\n",
    "genepos = read.table(gene_location_file_name, header = TRUE, stringsAsFactors = FALSE);"
   ]
  },
  {
   "cell_type": "code",
   "execution_count": 14,
   "metadata": {
    "collapsed": false
   },
   "outputs": [
    {
     "name": "stdout",
     "output_type": "stream",
     "text": [
      "Matching data files and location files \n",
      "10 of 10  genes matched\n",
      "15 of 15  SNPs matched\n",
      "Task finished in  0.007  seconds\n",
      "Processing covariates \n",
      "Task finished in  0.013  seconds\n",
      "Processing gene expression data (imputation, residualization, etc.) \n",
      "Task finished in  0.002  seconds\n",
      "Creating output file(s) \n",
      "Task finished in  0.068  seconds\n",
      "Performing eQTL analysis \n",
      "100.00% done, 2 cis-eQTLs, 3 trans-eQTLs\n",
      "Task finished in  0.052  seconds\n",
      " \n"
     ]
    }
   ],
   "source": [
    "me = Matrix_eQTL_main(\n",
    "snps = snps, \n",
    "gene = gene, \n",
    "cvrt = cvrt,\n",
    "output_file_name     = output_file_name_tra,\n",
    "pvOutputThreshold     = pvOutputThreshold_tra,\n",
    "useModel = useModel, \n",
    "errorCovariance = errorCovariance, \n",
    "verbose = TRUE, \n",
    "output_file_name.cis = output_file_name_cis,\n",
    "pvOutputThreshold.cis = pvOutputThreshold_cis,\n",
    "snpspos = snpspos, \n",
    "genepos = genepos,\n",
    "cisDist = cisDist,\n",
    "pvalue.hist = \"qqplot\",\n",
    "min.pv.by.genesnp = FALSE,\n",
    "noFDRsaveMemory = FALSE);"
   ]
  },
  {
   "cell_type": "code",
   "execution_count": 15,
   "metadata": {
    "collapsed": false
   },
   "outputs": [
    {
     "name": "stdout",
     "output_type": "stream",
     "text": [
      "Analysis done in:  0.121  seconds \n",
      "Detected local eQTLs: \n",
      "    snps    gene statistic       pvalue          FDR      beta\n",
      "1 Snp_05 Gene_03 38.812160 5.515519e-14 5.515519e-12 0.4101317\n",
      "2 Snp_04 Gene_10  3.201666 7.608981e-03 3.804491e-01 0.2321123\n",
      "Detected distant eQTLs: \n",
      "    snps    gene statistic      pvalue       FDR       beta\n",
      "1 Snp_13 Gene_09 -3.914403 0.002055817 0.1027908 -0.2978847\n",
      "2 Snp_11 Gene_06 -3.221962 0.007327756 0.1619451 -0.2332470\n",
      "3 Snp_14 Gene_01  3.070005 0.009716705 0.1619451  0.2147077\n"
     ]
    },
    {
     "data": {
      "image/png": "[encoded data removed]",
      "text/plain": [
       "Plot with title “QQ-plot for 100 local and 50 distant p-values”"
      ]
     },
     "metadata": {},
     "output_type": "display_data"
    }
   ],
   "source": [
    "unlink(output_file_name_tra);\n",
    "unlink(output_file_name_cis);\n",
    "\n",
    "## Results:\n",
    "\n",
    "cat('Analysis done in: ', me$time.in.sec, ' seconds', '\\n');\n",
    "cat('Detected local eQTLs:', '\\n');\n",
    "show(me$cis$eqtls)\n",
    "cat('Detected distant eQTLs:', '\\n');\n",
    "show(me$trans$eqtls)\n",
    "\n",
    "## Plot the Q-Q plot of local and distant p-values\n",
    "\n",
    "plot(me)"
   ]
  },
  {
   "cell_type": "code",
   "execution_count": 16,
   "metadata": {
    "collapsed": false
   },
   "outputs": [
    {
     "name": "stdout",
     "output_type": "stream",
     "text": [
      "    snps    gene statistic       pvalue          FDR      beta\n",
      "1 Snp_05 Gene_03 38.812160 5.515519e-14 5.515519e-12 0.4101317\n",
      "2 Snp_04 Gene_10  3.201666 7.608981e-03 3.804491e-01 0.2321123\n"
     ]
    }
   ],
   "source": []
  },
  {
   "cell_type": "code",
   "execution_count": 18,
   "metadata": {
    "collapsed": false
   },
   "outputs": [
    {
     "ename": "ERROR",
     "evalue": "Error in read.table(file = file, header = header, sep = sep, quote = quote, : duplicate 'row.names' are not allowed\n",
     "output_type": "error",
     "traceback": [
      "Error in read.table(file = file, header = header, sep = sep, quote = quote, : duplicate 'row.names' are not allowed\nTraceback:\n",
      "1. read.csv(\"~/Downloads//gdac.broadinstitute.org_ACC.Mutation_Packager_Oncotated_Calls.Level_3.2016012800.0.0/TCGA-OR-A5J1-01.hg19.oncotator.hugo_entrez_remapped.maf.txt\", \n .     row.names = 2)",
      "2. read.table(file = file, header = header, sep = sep, quote = quote, \n .     dec = dec, fill = fill, comment.char = comment.char, ...)",
      "3. stop(\"duplicate 'row.names' are not allowed\")"
     ]
    }
   ],
   "source": [
    "table = read.csv(\"~/Downloads//gdac.broadinstitute.org_ACC.Mutation_Packager_Oncotated_Calls.Level_3.2016012800.0.0/TCGA-OR-A5J1-01.hg19.oncotator.hugo_entrez_remapped.maf.txt\",row.names=2)"
   ]
  },
  {
   "cell_type": "code",
   "execution_count": 22,
   "metadata": {
    "collapsed": false
   },
   "outputs": [
    {
     "name": "stderr",
     "output_type": "stream",
     "text": [
      "Updating HTML index of packages in '.Library'\n",
      "Making 'packages.html' ... done\n",
      "Bioconductor version 3.4 (BiocInstaller 1.24.0), ?biocLite for help\n",
      "BioC_mirror: https://bioconductor.org\n",
      "Using Bioconductor 3.4 (BiocInstaller 1.24.0), R 3.3.2 (2016-10-31).\n",
      "Installing package(s) ‘biomaRt’\n",
      "also installing the dependencies ‘memoise’, ‘plogr’, ‘BiocGenerics’, ‘Biobase’, ‘IRanges’, ‘RSQLite’, ‘S4Vectors’, ‘XML’, ‘RCurl’, ‘AnnotationDbi’\n",
      "\n",
      "Warning message in install.packages(pkgs = doing, lib = lib, ...):\n",
      "“installation of package ‘XML’ had non-zero exit status”Warning message in install.packages(pkgs = doing, lib = lib, ...):\n",
      "“installation of package ‘RCurl’ had non-zero exit status”Warning message in install.packages(pkgs = doing, lib = lib, ...):\n",
      "“installation of package ‘Biobase’ had non-zero exit status”Warning message in install.packages(pkgs = doing, lib = lib, ...):\n",
      "“installation of package ‘RSQLite’ had non-zero exit status”Warning message in install.packages(pkgs = doing, lib = lib, ...):\n",
      "“installation of package ‘S4Vectors’ had non-zero exit status”Warning message in install.packages(pkgs = doing, lib = lib, ...):\n",
      "“installation of package ‘IRanges’ had non-zero exit status”Warning message in install.packages(pkgs = doing, lib = lib, ...):\n",
      "“installation of package ‘AnnotationDbi’ had non-zero exit status”Warning message in install.packages(pkgs = doing, lib = lib, ...):\n",
      "“installation of package ‘biomaRt’ had non-zero exit status”Updating HTML index of packages in '.Library'\n",
      "Making 'packages.html' ... done\n",
      "Old packages: 'backports', 'colorspace', 'data.table', 'digest', 'forcats',\n",
      "  'ggplot2', 'jsonlite', 'Matrix', 'nlme', 'openssl', 'pbdZMQ', 'psych',\n",
      "  'Rcpp', 'rmarkdown', 'rprojroot', 'selectr', 'shiny', 'tidyr', 'tidyverse',\n",
      "  'xml2', 'zoo'\n"
     ]
    }
   ],
   "source": [
    "source(\"https://bioconductor.org/biocLite.R\")\n",
    "biocLite(\"biomaRt\")"
   ]
  },
  {
   "cell_type": "code",
   "execution_count": 23,
   "metadata": {
    "collapsed": false
   },
   "outputs": [
    {
     "ename": "ERROR",
     "evalue": "Error in eval(expr, envir, enclos): object 'biomart' not found\n",
     "output_type": "error",
     "traceback": [
      "Error in eval(expr, envir, enclos): object 'biomart' not found\nTraceback:\n"
     ]
    }
   ],
   "source": [
    "biomart"
   ]
  },
  {
   "cell_type": "code",
   "execution_count": null,
   "metadata": {
    "collapsed": true
   },
   "outputs": [],
   "source": [
    "#need a way to convert "
   ]
  }
 ],
 "metadata": {
  "kernelspec": {
   "display_name": "R",
   "language": "R",
   "name": "ir"
  },
  "language_info": {
   "codemirror_mode": "r",
   "file_extension": ".r",
   "mimetype": "text/x-r-source",
   "name": "R",
   "pygments_lexer": "r",
   "version": "3.3.2"
  }
 },
 "nbformat": 4,
 "nbformat_minor": 2
}
